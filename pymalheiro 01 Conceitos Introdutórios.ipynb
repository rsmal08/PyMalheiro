{
 "cells": [
  {
   "cell_type": "markdown",
   "id": "1ef4fdc8-f4be-4bfe-a16b-4e59f191545d",
   "metadata": {
    "tags": []
   },
   "source": [
    "# Curso de Python - Ricardo Malheiro (ricardo.malheiro@ipleiria.pt)"
   ]
  },
  {
   "cell_type": "markdown",
   "id": "e2bcad2f-5bf7-4c83-b4ab-a71a7fc7f82b",
   "metadata": {},
   "source": [
    "## Conceitos Introdutórios"
   ]
  },
  {
   "cell_type": "markdown",
   "id": "74062b44-3d0a-484e-95ff-e5d26314fdf5",
   "metadata": {
    "tags": []
   },
   "source": [
    "### 1. Variáveis e Objetos"
   ]
  },
  {
   "cell_type": "markdown",
   "id": "59fe351e-acfa-4fb5-970d-9294ce16194a",
   "metadata": {},
   "source": [
    "#### As variáveis podem ser dos seguintes tipos:\n",
    "- Texto ou string\n",
    "- Inteiro  \n",
    "- Float\n",
    "- Lógico ou booleano\n",
    "\n",
    "No python a declaração das variáveis é implícita (ao contrário de linguagens como o java ou o c#) ou seja não é necessário declarar o seu tipo de dados de uma forma explícita."
   ]
  },
  {
   "cell_type": "code",
   "execution_count": 2,
   "id": "bebbc20e-27dd-4cfb-92b0-7f0d72986c44",
   "metadata": {},
   "outputs": [
    {
     "name": "stdout",
     "output_type": "stream",
     "text": [
      "Leiria\n",
      "21\n",
      "80.25\n",
      "True\n"
     ]
    }
   ],
   "source": [
    "#Cria uma variável do tipo texto\n",
    "cidade = 'Leiria' #Posso substituir o ' por \" com o mesmo efeito\n",
    "print(cidade)\n",
    "#Cria variável do tipo inteiro\n",
    "idade = 21\n",
    "print(idade)\n",
    "#Cria variável do tipo float\n",
    "peso = 80.25\n",
    "print(peso)\n",
    "#Cria variável do tipo lógica\n",
    "e_aluno = True  \n",
    "print(e_aluno)"
   ]
  },
  {
   "cell_type": "markdown",
   "id": "ec93b247-b723-49d3-b1b4-1d23a1a110bc",
   "metadata": {},
   "source": [
    "A seguinte função permite identificar o tipo de dados de uma variável"
   ]
  },
  {
   "cell_type": "code",
   "execution_count": 3,
   "id": "cd290284-4375-475c-b3ce-646145837bb3",
   "metadata": {},
   "outputs": [
    {
     "name": "stdout",
     "output_type": "stream",
     "text": [
      "<class 'str'>\n",
      "<class 'int'>\n",
      "<class 'float'>\n",
      "<class 'bool'>\n"
     ]
    }
   ],
   "source": [
    "print(type(cidade)) #Obviamente que esta instrução é equivalente às 2 istruções que se seguem: 1) a = type(cidade) 2) print(a)\n",
    "print(type(idade))\n",
    "print(type(peso))\n",
    "print(type(e_aluno))"
   ]
  },
  {
   "cell_type": "markdown",
   "id": "d9845312-70bf-45a1-9576-b25720326ee1",
   "metadata": {},
   "source": [
    "Vimos que a função print permite fazer a saída de dados para a consola. A função input permite ler dados a partir da consola"
   ]
  },
  {
   "cell_type": "code",
   "execution_count": 4,
   "id": "7a8fca28-44c9-4d4c-afb5-d0e2001b78e9",
   "metadata": {},
   "outputs": [
    {
     "name": "stdin",
     "output_type": "stream",
     "text": [
      "Qual o valor que pretende atribuir à variável? 25\n"
     ]
    },
    {
     "name": "stdout",
     "output_type": "stream",
     "text": [
      "A variável lida é 25 e o seu tipo de dados é <class 'str'>\n"
     ]
    }
   ],
   "source": [
    "x = input(\"Qual o valor que pretende atribuir à variável?\")\n",
    "tipo = type(x)\n",
    "print(\"A variável lida é\",x,\"e o seu tipo de dados é\",tipo) "
   ]
  },
  {
   "cell_type": "markdown",
   "id": "8627a9d6-c543-4f0e-bf07-a4726d8b11d2",
   "metadata": {},
   "source": [
    "Como se vê em cima uma variável lida a partir da consola com a função input é sempre lida como uma variável string. Se pretendermos ler noutro formato temos que converter esse formato de acordo com as funções em baixo"
   ]
  },
  {
   "cell_type": "markdown",
   "id": "60b80ffa-980c-42fa-8f59-8c39a00b29bb",
   "metadata": {},
   "source": [
    "#### Conversão de tipos de dados"
   ]
  },
  {
   "cell_type": "code",
   "execution_count": 5,
   "id": "e549c51c",
   "metadata": {},
   "outputs": [
    {
     "name": "stdout",
     "output_type": "stream",
     "text": [
      "A variável lida 10 é do tipo <class 'int'>\n",
      "10 é agora do tipo <class 'str'>\n",
      "10.0 é agora do tipo <class 'float'>\n"
     ]
    }
   ],
   "source": [
    "x = 10\n",
    "print(\"A variável lida\",x,\"é do tipo\",type(x))\n",
    "x = str(x)\n",
    "print(x,\"é agora do tipo\",type(x))\n",
    "x = float(x)\n",
    "print(x,\"é agora do tipo\",type(x))\n",
    "\n",
    "\n",
    "#x = input(\"Qual o valor de entrada?\")"
   ]
  },
  {
   "cell_type": "markdown",
   "id": "18a9dbef-f87e-4771-93b1-3894cf9ed308",
   "metadata": {},
   "source": [
    "Se pretendermos ler diretamente um determinado tipo de dados a partir da consola, devemos aplicar o operador de conversão diretamente na função input"
   ]
  },
  {
   "cell_type": "code",
   "execution_count": 53,
   "id": "8880287b-fbdb-43c5-91b0-c62adab590b6",
   "metadata": {},
   "outputs": [
    {
     "name": "stdin",
     "output_type": "stream",
     "text": [
      "Introduza um valor inteiro: 1\n"
     ]
    },
    {
     "name": "stdout",
     "output_type": "stream",
     "text": [
      "A variável lida é 1 e o seu tipo de dados é <class 'int'>\n"
     ]
    }
   ],
   "source": [
    "x = int(input(\"Introduza um valor inteiro:\"))\n",
    "tipo = type(x)\n",
    "print(\"A variável lida é\",x,\"e o seu tipo de dados é\",tipo) "
   ]
  },
  {
   "cell_type": "markdown",
   "id": "8ecc12fa-c2f4-4df5-a741-9a7df2696f8a",
   "metadata": {},
   "source": [
    "Como podemos ver desde que a conversão seja compatível do ponto de vista do interpretador python o tipo de dados da variável é convertido.\n",
    "Qualquer tipo de variável pode por exemplo ser convertido em string, mas o contrário não se verifica."
   ]
  },
  {
   "cell_type": "markdown",
   "id": "adc0d71f",
   "metadata": {},
   "source": [
    "#### Operadores"
   ]
  },
  {
   "cell_type": "code",
   "execution_count": 6,
   "id": "6790fef1-4ea3-4ddf-bd12-bc1ffe478359",
   "metadata": {},
   "outputs": [
    {
     "name": "stdout",
     "output_type": "stream",
     "text": [
      "A soma de 20 e 5 é 25\n",
      "A subtração de 20 e 5 é 15\n",
      "A multiplicação de 20 e 5 é 100\n",
      "A divisão de 20 e 5 é 4.0\n",
      "O número 20 elevao à potência de 5 é 3200000\n",
      "O resto da divisão de  20 por 5 é 0\n"
     ]
    }
   ],
   "source": [
    "x = 20\n",
    "y = 5\n",
    "\n",
    "#Soma\n",
    "z = x + y\n",
    "print(\"A soma de\",x,\"e\",y,\"é\",z)\n",
    "\n",
    "#Subtração\n",
    "z = x - y\n",
    "print(\"A subtração de\",x,\"e\",y,\"é\",z)\n",
    "\n",
    "#Multiplicação\n",
    "z = x * y\n",
    "print(\"A multiplicação de\",x,\"e\",y,\"é\",z)\n",
    "\n",
    "#Divisão\n",
    "z = x / y\n",
    "print(\"A divisão de\",x,\"e\",y,\"é\",z)\n",
    "\n",
    "#Potência\n",
    "z = x ** y\n",
    "print(\"O número\",x,\"elevao à potência de\",y,\"é\",z)\n",
    "\n",
    "#Resto da divisão\n",
    "z = x % y\n",
    "print(\"O resto da divisão de \",x,\"por\",y,\"é\",z)\n"
   ]
  },
  {
   "cell_type": "markdown",
   "id": "2a3f1058-2878-459b-9ca3-c641cc6bb707",
   "metadata": {},
   "source": [
    "### 2. Estruturas de Decisão"
   ]
  },
  {
   "cell_type": "markdown",
   "id": "b91aeda1-4be3-4b28-abf7-af009a08ae98",
   "metadata": {
    "tags": []
   },
   "source": [
    "#### Condição if...else"
   ]
  },
  {
   "cell_type": "code",
   "execution_count": 9,
   "id": "8abd8de0",
   "metadata": {},
   "outputs": [
    {
     "name": "stdout",
     "output_type": "stream",
     "text": [
      "Aprovado\n"
     ]
    }
   ],
   "source": [
    "nota = 11.3\n",
    "if nota > 9.5:\n",
    "    print(\"Aprovado\")\n",
    "else:\n",
    "    print(\"Reprovado\")\n",
    "    print(\"Deverá inscrever-se em época de recurso\")\n",
    "      "
   ]
  },
  {
   "cell_type": "markdown",
   "id": "40c9105d-7c43-4d26-ab45-9af4ec5f81ef",
   "metadata": {},
   "source": [
    "Em vez de 2 condições, no exemplo seguinte iremos ter 5 condições. Pretende-se que se a nota estiver entre 0 e 9.5 a nota seja de reprovado, se estiver entre 9.5 e 13.9 a nota seja de suficiente, entre 13.9 e 16 bom, entre 16 e 18 muito bom e acima disso excelente."
   ]
  },
  {
   "cell_type": "code",
   "execution_count": 14,
   "id": "61b0b9fb-205a-463d-a520-d236386ff101",
   "metadata": {},
   "outputs": [
    {
     "name": "stdout",
     "output_type": "stream",
     "text": [
      "Excelente\n"
     ]
    }
   ],
   "source": [
    "#O operador AND representa o E lógico. Existe também o operador OR que representa o OU lógico\n",
    "\n",
    "nota = 18\n",
    "if nota > 0 and nota < 9.5:\n",
    "    print(\"Reprovado\")\n",
    "elif nota >= 9.5 and nota < 13.9:\n",
    "    print(\"Suficiente\")\n",
    "elif nota >= 13.9 and nota < 16:\n",
    "    print(\"Bom\")\n",
    "elif nota >= 16 and nota < 18:\n",
    "    print(\"Muito Bom\")\n",
    "else:\n",
    "    print(\"Excelente\")"
   ]
  },
  {
   "cell_type": "markdown",
   "id": "93322658-d1f1-46b9-8488-8e5a57d676e3",
   "metadata": {},
   "source": [
    "NOTA: Partindo do princípio que não existem notas abaixo de 0, a primeira condição podia ficar simplesmente 'if nota < 9.5'. As seguintes também podem ser simplificadas"
   ]
  },
  {
   "cell_type": "code",
   "execution_count": 43,
   "id": "2b1d8904",
   "metadata": {
    "jupyter": {
     "source_hidden": true
    },
    "tags": []
   },
   "outputs": [
    {
     "name": "stdout",
     "output_type": "stream",
     "text": [
      "Excelente\n"
     ]
    }
   ],
   "source": [
    "nota = 18\n",
    "if nota < 9.5:\n",
    "    print(\"Reprovado :(\")\n",
    "elif nota < 13.9:\n",
    "    print(\"Suficiente\")\n",
    "elif nota < 16:\n",
    "    print(\"Bom\")\n",
    "elif nota < 18:\n",
    "    print(\"Muito Bom\")\n",
    "else:\n",
    "    print(\"Excelente\")"
   ]
  },
  {
   "cell_type": "markdown",
   "id": "da6da21d-93bd-47ee-ab8b-d7ce1c9dbfe1",
   "metadata": {},
   "source": [
    "### 3. Estruturas de Repetição"
   ]
  },
  {
   "cell_type": "markdown",
   "id": "20ca67a7-3f71-4051-802d-599e9d91339a",
   "metadata": {
    "tags": []
   },
   "source": [
    "#### Ciclo While"
   ]
  },
  {
   "cell_type": "code",
   "execution_count": 8,
   "id": "d8b2d61c",
   "metadata": {
    "collapsed": true,
    "jupyter": {
     "outputs_hidden": true
    },
    "tags": []
   },
   "outputs": [
    {
     "name": "stdout",
     "output_type": "stream",
     "text": [
      "1\n",
      "2\n",
      "3\n",
      "4\n",
      "5\n"
     ]
    }
   ],
   "source": [
    "#Programa para escrever todos os números entre 1 e 5\n",
    "i = 1\n",
    "while i <= 5:\n",
    "    print(i)\n",
    "    i += 1"
   ]
  },
  {
   "cell_type": "code",
   "execution_count": 9,
   "id": "b6c07a5a",
   "metadata": {
    "collapsed": true,
    "jupyter": {
     "outputs_hidden": true
    },
    "tags": []
   },
   "outputs": [
    {
     "name": "stdout",
     "output_type": "stream",
     "text": [
      "2\n",
      "4\n"
     ]
    }
   ],
   "source": [
    "#Programa para escrever os números pares entre 1 e 5\n",
    "i = 1\n",
    "while i <= 5:\n",
    "    if (i % 2) == 0:\n",
    "        print(i)\n",
    "    i += 1"
   ]
  },
  {
   "cell_type": "markdown",
   "id": "413c3fdb-7565-4e06-a58c-dedab1e69a33",
   "metadata": {
    "tags": []
   },
   "source": [
    "#### Ciclo For"
   ]
  },
  {
   "cell_type": "code",
   "execution_count": 10,
   "id": "6b0422eb-42a4-4861-a43b-d51593e1fd8a",
   "metadata": {
    "collapsed": true,
    "jupyter": {
     "outputs_hidden": true,
     "source_hidden": true
    },
    "tags": []
   },
   "outputs": [
    {
     "name": "stdout",
     "output_type": "stream",
     "text": [
      "1\n",
      "2\n",
      "3\n",
      "4\n",
      "5\n",
      "\n",
      "5\n",
      "4\n",
      "3\n",
      "2\n",
      "1\n"
     ]
    }
   ],
   "source": [
    "#Programa para escrever todos os números entre 1 e 5 \n",
    "for i in range(1, 6):\n",
    "    print(i)\n",
    "    \n",
    "#A função range tem 3 parâmetros: valor de início, valor de fim, incremento da variável. \n",
    "#Se o incremento for 1, então esse 3º parâmetro pode ser omitido. O incremento pode também ser negativo.\n",
    "\n",
    "print()\n",
    "\n",
    "#Programa para escrever todos os números entre 5 e 1\n",
    "for i in range(5, 0, -1):\n",
    "    print(i)"
   ]
  },
  {
   "cell_type": "code",
   "execution_count": 12,
   "id": "18eaaf9f-7974-4958-871b-32ba27993c49",
   "metadata": {
    "tags": []
   },
   "outputs": [
    {
     "name": "stdout",
     "output_type": "stream",
     "text": [
      "0\n",
      "1\n",
      "2\n",
      "---------------------------------------------------\n",
      "0\n",
      "1\n",
      "2\n",
      "4\n"
     ]
    }
   ],
   "source": [
    "#Alterar a ordem normal de um ciclo for com as keywords 'break' e 'continue'\n",
    "\n",
    "#Sai do ciclo após o 'break'\n",
    "for i in range(0, 5):\n",
    "    if i==3:\n",
    "        break\n",
    "    print(i)\n",
    "\n",
    "print(\"---------------------------------------------------\")\n",
    "    \n",
    "#Salta para a próxima iteração do ciclo após o 'continue'\n",
    "for i in range(0, 5):\n",
    "    if i==3:\n",
    "        continue\n",
    "    print(i)"
   ]
  },
  {
   "cell_type": "markdown",
   "id": "af82afa2-788e-49e7-b4b4-fde6a7805480",
   "metadata": {},
   "source": [
    "### Exercícios\n",
    "\n",
    "Escreva um programa para: <br>\n",
    "1 - Converter moeda de Euros para Dólares Americanos (ver na Internet a taxa de conversão atual). <br> \n",
    "2 - Ler um valor de temperatura em graus Fahrenheit a partir da consola e em seguida convertê-lo para graus Celsius. O resultado deve ser escrito no ecrã C=5/9x(F-32)).<br>\n",
    "3 - Percorrer uma lista de números entre 1 e 10 e para cada um deles indicar no ecrã se o número é par ou ímpar. O resultado no ecrã deve ser o seguinte:\n",
    ">1 é um número ímpar<br>\n",
    ">2 é um número par<br>\n",
    ">3 é um número ímpar<br>\n",
    ">4 é um número par<br>\n",
    ">5 é um número ímpar<br>\n",
    ">6 é um número par<br>\n",
    ">7 é um número ímpar<br>\n",
    ">8 é um número par<br>\n",
    ">9 é um número ímpar<br>\n",
    ">10 é um número par\n",
    "<br>"
   ]
  }
 ],
 "metadata": {
  "kernelspec": {
   "display_name": "Python 3 (ipykernel)",
   "language": "python",
   "name": "python3"
  },
  "language_info": {
   "codemirror_mode": {
    "name": "ipython",
    "version": 3
   },
   "file_extension": ".py",
   "mimetype": "text/x-python",
   "name": "python",
   "nbconvert_exporter": "python",
   "pygments_lexer": "ipython3",
   "version": "3.9.7"
  }
 },
 "nbformat": 4,
 "nbformat_minor": 5
}
