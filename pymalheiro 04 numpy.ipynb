{
 "cells": [
  {
   "cell_type": "markdown",
   "id": "7e6945e1-ac30-4c65-9f96-439d7a56dd6f",
   "metadata": {
    "tags": []
   },
   "source": [
    "# Curso de Python - Ricardo Malheiro (ricardo.malheiro@ipleiria.pt)"
   ]
  },
  {
   "cell_type": "markdown",
   "id": "38114f82-d47c-4dda-b378-9ee4e4825ef3",
   "metadata": {},
   "source": [
    "## Numpy"
   ]
  },
  {
   "cell_type": "markdown",
   "id": "f0d73665-598e-4ab4-91d0-7d29e9be241c",
   "metadata": {},
   "source": [
    "O Numpy é uma das bibliotecas fundamentais do python, utilizada para trabalhar com matrizes e arrays n-dimensionais (ndarrays).\n",
    "Esta biblioteca está incluída no pacote de computação científica ScyPy.\n",
    "A biblioteca está otimizada para lidar com computação vetorizada possuindo funcionalidades para manipulação de vetores/matrizes muito mais eficientes do que as utilizadas em ciclos de repetição."
   ]
  },
  {
   "cell_type": "code",
   "execution_count": 2,
   "id": "17dba1a1-653c-4475-b921-911a06d0093f",
   "metadata": {},
   "outputs": [],
   "source": [
    "#O primeiro passo consiste em importar a biblioteca numpy\n",
    "import numpy as np"
   ]
  },
  {
   "cell_type": "code",
   "execution_count": 61,
   "id": "a7c0342c-c740-49d2-92f1-f7d3d17f5725",
   "metadata": {},
   "outputs": [
    {
     "name": "stdout",
     "output_type": "stream",
     "text": [
      "[ 2 24 33 12 40 66]\n",
      "<class 'numpy.ndarray'>\n"
     ]
    }
   ],
   "source": [
    "#Cria uma matriz unidimensional\n",
    "mt = np.array([2,24,33,12,40, 66])\n",
    "print(mt)\n",
    "print(type(mt))"
   ]
  },
  {
   "cell_type": "code",
   "execution_count": 8,
   "id": "7fb5f41b-5669-46ed-b06d-eafbe4aa257f",
   "metadata": {},
   "outputs": [
    {
     "name": "stdout",
     "output_type": "stream",
     "text": [
      "[5 6 7]\n",
      "<class 'numpy.ndarray'>\n",
      "[5. 6. 7.]\n",
      "<class 'numpy.ndarray'>\n"
     ]
    }
   ],
   "source": [
    "#Criar o array com um tipo específico\n",
    "#Cria o array com inteiros\n",
    "mtint = np.array([5, 6, 7], dtype = np.int32)\n",
    "print(mtint)\n",
    "print(type(mtint))\n",
    "\n",
    "#Cria o array como float de 64 bits\n",
    "mtfloat = np.array([5, 6, 7], dtype = np.float64)\n",
    "print(mtfloat)\n",
    "print(type(mtfloat))"
   ]
  },
  {
   "cell_type": "code",
   "execution_count": 9,
   "id": "881cd508-64dc-4908-ba96-d7158fbd8978",
   "metadata": {},
   "outputs": [
    {
     "name": "stdout",
     "output_type": "stream",
     "text": [
      "[ 3.9999  1.226  25.13   -9.42    7.    ]\n",
      "[ 3  1 25 -9  7]\n"
     ]
    }
   ],
   "source": [
    "#Alterar o tipo de dados do array\n",
    "mt = np.array([3.9999, 1.226, 25.13, -9.42, 7])\n",
    "print(mt)\n",
    "\n",
    "#De float para int (os valores são truncados)\n",
    "mtint = mt.astype(np.int32)\n",
    "print(mtint)"
   ]
  },
  {
   "cell_type": "code",
   "execution_count": 10,
   "id": "91731314-2e61-48a9-b2ad-f496770ef3e4",
   "metadata": {},
   "outputs": [
    {
     "name": "stdout",
     "output_type": "stream",
     "text": [
      "[2 3 4 6 7]\n",
      "[2. 3. 4. 6. 7.]\n"
     ]
    }
   ],
   "source": [
    "#Alterar o tipo de dados do array\n",
    "mt = np.array([2, 3, 4, 6, 7])\n",
    "print(mt)\n",
    "\n",
    "#De para int para float\n",
    "mtfloat = mt.astype(float)\n",
    "print(mtfloat)"
   ]
  },
  {
   "cell_type": "code",
   "execution_count": 14,
   "id": "0980758e-1da2-4127-b957-5b2a3ffb4e60",
   "metadata": {},
   "outputs": [
    {
     "name": "stdout",
     "output_type": "stream",
     "text": [
      "[[1 2 3]\n",
      " [4 5 6]\n",
      " [7 8 9]]\n",
      "<class 'numpy.ndarray'>\n"
     ]
    }
   ],
   "source": [
    "#Cria uma matriz bidimensional\n",
    "mt = np.array([[1,2,3],[4,5,6],[7,8,9]])\n",
    "print(mt)\n",
    "print(type(mt))\n",
    "\n"
   ]
  },
  {
   "cell_type": "code",
   "execution_count": 15,
   "id": "bca7b498-e62e-4cd2-8104-43ddca1895b2",
   "metadata": {},
   "outputs": [
    {
     "name": "stdout",
     "output_type": "stream",
     "text": [
      "[[-575935568        458          1]\n",
      " [         0 -509110592        458]\n",
      " [-529225152        458          0]]\n",
      "\n",
      "[[0. 0. 0. 0.]\n",
      " [0. 0. 0. 0.]]\n",
      "\n",
      "[[1. 1.]\n",
      " [1. 1.]\n",
      " [1. 1.]]\n",
      "\n",
      "[[1. 0. 0.]\n",
      " [0. 1. 0.]\n",
      " [0. 0. 1.]]\n"
     ]
    }
   ],
   "source": [
    "#Criar array em que os elementos não são inicializados (3 linhas e 3 colunas)\n",
    "vazio = np.empty([3,3], dtype = int)\n",
    "print(vazio)\n",
    "\n",
    "print()\n",
    "#Cria uma matriz 2x4 com valores zero\n",
    "zero = np.zeros([2,4])\n",
    "print(zero)\n",
    "\n",
    "print()\n",
    "#Cria uma matriz 3x2 com valores um\n",
    "um = np.ones([3,2])\n",
    "print(um)\n",
    "\n",
    "print()\n",
    "# cria matriz quadrada com diagonal principal com valores 1 e os outros valores zero\n",
    "diagonal = np.eye(3)\n",
    "print(diagonal)"
   ]
  },
  {
   "cell_type": "code",
   "execution_count": 46,
   "id": "db61f2f3-834a-4abe-b245-6ddd46aa6809",
   "metadata": {},
   "outputs": [
    {
     "name": "stdout",
     "output_type": "stream",
     "text": [
      "[0.69546869 0.52144135 0.80444204 0.25969532]\n",
      "\n",
      "[[80.89565226 83.2103428  87.81164201 88.83190188]\n",
      " [12.3112668  77.71912876 82.40509097  4.01267703]\n",
      " [51.88437587 77.46467029 15.33866874 59.36573076]]\n",
      "\n",
      "[ 1.60759061  0.4411118   0.41782061 -0.3097681 ]\n",
      "\n"
     ]
    }
   ],
   "source": [
    "#Matriz com valores aleatórios entre 0 e 1\n",
    "aleat = np.random.random((4))\n",
    "print(aleat)\n",
    "print()\n",
    "\n",
    "#Matriz com valores aleatórios entre 0 e 100\n",
    "aleat = 100*np.random.random((3, 4))\n",
    "print(aleat)\n",
    "print()\n",
    "\n",
    "#Matriz com valores aleatórios. Distribuição normal contendo negativos\n",
    "aleat= np.random.randn((4))\n",
    "print(aleat)\n",
    "print()"
   ]
  },
  {
   "cell_type": "code",
   "execution_count": 56,
   "id": "f48f8c13-8611-4578-9cc9-95afa2a71323",
   "metadata": {},
   "outputs": [
    {
     "name": "stdout",
     "output_type": "stream",
     "text": [
      "[0.51182162 0.9504637  0.14415961]\n",
      "\n",
      "[[16 18  4]\n",
      " [ 6 17  8]\n",
      " [ 5 16  5]]\n"
     ]
    }
   ],
   "source": [
    "#Outra forma de gerar aleatórios utilizando a semente\n",
    "na = np.random.default_rng(1)\n",
    "aleat = na.random(3)\n",
    "print (aleat)\n",
    "\n",
    "print()\n",
    "\n",
    "#Gerar uma matriz 3x3 de numeros inteiros entre 0 e 20\n",
    "aleat = na.integers(20, size=(3, 3))\n",
    "print(aleat)"
   ]
  },
  {
   "cell_type": "code",
   "execution_count": 64,
   "id": "816e1913-732f-4c31-87fc-745f211f521e",
   "metadata": {},
   "outputs": [
    {
     "name": "stdout",
     "output_type": "stream",
     "text": [
      "[ 2  4  5  7 98 23 23 23  7 98  2]\n",
      "[ 2  4  5  7 23 98]\n"
     ]
    }
   ],
   "source": [
    "#Eliminar repetições\n",
    "x = np.array([2, 4, 5, 7, 98, 23, 23, 23, 7, 98, 2])\n",
    "print(x)\n",
    "\n",
    "x = np.unique(x)\n",
    "print(x)"
   ]
  },
  {
   "cell_type": "code",
   "execution_count": 70,
   "id": "362166fa-942e-461c-82fc-0321950afff2",
   "metadata": {},
   "outputs": [
    {
     "name": "stdout",
     "output_type": "stream",
     "text": [
      "[[  7  12 241]\n",
      " [ 17  20  16]\n",
      " [ 83  44   2]]\n",
      "\n",
      "20\n",
      "\n",
      "(3, 3)\n"
     ]
    }
   ],
   "source": [
    "#Aceder a elementos\n",
    "#Cria a matriz mt\n",
    "mt = np.array([[7,12,241],[17,20,16],[83,44,2]])\n",
    "# Mostra a matriz mt\n",
    "print(mt)\n",
    "\n",
    "print()\n",
    "\n",
    "# Mostra um elemento na posição (1, 1) da matriz\n",
    "print(mt[1][1])\n",
    "\n",
    "print()\n",
    "\n",
    "# Mostra o tamanho das dimensões da matriz mt\n",
    "print(mt.shape)"
   ]
  },
  {
   "cell_type": "code",
   "execution_count": 72,
   "id": "d69d7a99-1f2d-441e-9eba-437b5f01dccf",
   "metadata": {},
   "outputs": [
    {
     "name": "stdout",
     "output_type": "stream",
     "text": [
      "241\n",
      "2\n",
      "442\n",
      "49.111111111111114\n",
      "71.75644677881554\n"
     ]
    }
   ],
   "source": [
    "#Funções Matemáticas\n",
    "\n",
    "#Mostra o maior valor da matriz \n",
    "print(mt.max())\n",
    "\n",
    "#Mostra o menor valor da matriz\n",
    "print(mt.min())\n",
    "\n",
    "#Mostra a soma dos valores da matriz\n",
    "print((mt.sum()))\n",
    "\n",
    "#Mostra o valor da média dos valores da matriz\n",
    "print(mt.mean())\n",
    "\n",
    "#Mostra o valor do desvio padrão (standard deviation) dos valores da matiz\n",
    "print(mt.std())"
   ]
  },
  {
   "cell_type": "code",
   "execution_count": 75,
   "id": "fd3df2f5-a986-4359-af11-1957aa82bd37",
   "metadata": {},
   "outputs": [
    {
     "name": "stdout",
     "output_type": "stream",
     "text": [
      "[1. 2. 3. 4. 5. 6.]\n",
      "\n",
      "[2.71828183e+00 5.45981500e+01 8.10308393e+03 8.88611052e+06\n",
      " 7.20048993e+10 4.31123155e+15]\n"
     ]
    }
   ],
   "source": [
    "#Funções aplicadas a todos os elementos da matriz\n",
    "mt = np.array([1, 4, 9, 16, 25, 36])\n",
    "\n",
    "#Mostra o valor da raiz quadrada de todos elementos\n",
    "print(np.sqrt(mt))\n",
    "\n",
    "print()\n",
    "\n",
    "# Mostra o valor do exponencial de todos elementos\n",
    "print(np.exp(mt))"
   ]
  },
  {
   "cell_type": "code",
   "execution_count": 77,
   "id": "6ef9d739-2b53-4de7-8f25-21a73aedf4c2",
   "metadata": {},
   "outputs": [
    {
     "name": "stdout",
     "output_type": "stream",
     "text": [
      "3\n",
      "[1 2]\n",
      "[2 3 4 5 6]\n",
      "[4 5 6]\n"
     ]
    }
   ],
   "source": [
    "#Extração de elementos\n",
    "mt = np.array([1, 2, 3, 4, 5, 6])\n",
    "\n",
    "#Mostra o elemento da posição 3\n",
    "print(mt[2])\n",
    "\n",
    "#Mostra o array criado a partir da posição 0, dois elementos\n",
    "print(mt[0:2])\n",
    "\n",
    "#Mostra o array criado a partir da 2a posição\n",
    "# até todo o restante do array\n",
    "print(mt[1:])\n",
    "\n",
    "#Mostra o array criado a partir da antepenúltima\n",
    "#posição até o final\n",
    "print(mt[-3:])"
   ]
  },
  {
   "cell_type": "code",
   "execution_count": 80,
   "id": "7a17e6db-e718-4294-a1cc-19a86130eecc",
   "metadata": {},
   "outputs": [
    {
     "name": "stdout",
     "output_type": "stream",
     "text": [
      "[[4 5]\n",
      " [6 1]\n",
      " [7 4]]\n",
      "\n",
      "[4 5]\n",
      "\n",
      "[6 1]\n",
      "\n",
      "[7 4]\n",
      "\n",
      "[4 6 7]\n",
      "\n",
      "[5 1 4]\n"
     ]
    }
   ],
   "source": [
    "#Extração de linhas e colunas\n",
    "mt = np.array([[4, 5], [6, 1], [7, 4]])\n",
    "print(mt)\n",
    "\n",
    "print()\n",
    "\n",
    "#Primeira linha, todas as colunas\n",
    "mt_linha_1 = mt[0, :]\n",
    "print(mt_linha_1)\n",
    "\n",
    "print()\n",
    "\n",
    "#Segunda linha\n",
    "mt_linha_2 = mt[1, :]\n",
    "print(mt_linha_2)\n",
    "\n",
    "print()\n",
    "\n",
    "#Terceira linha\n",
    "mt_linha_3 = mt[2, :]\n",
    "print(mt_linha_3)\n",
    "\n",
    "print()\n",
    "\n",
    "#Todas as linhas, primeira coluna\n",
    "mt_coluna_1 = mt[:, 0]\n",
    "print(mt_coluna_1)\n",
    "\n",
    "print()\n",
    "\n",
    "#Todas as linhas, segunda coluna\n",
    "mt_coluna_2 = mt[:, 1]\n",
    "print(mt_coluna_2)"
   ]
  },
  {
   "cell_type": "code",
   "execution_count": 82,
   "id": "251c9153-e805-4b60-807f-4a70be86a6d2",
   "metadata": {},
   "outputs": [
    {
     "name": "stdout",
     "output_type": "stream",
     "text": [
      "[[2 3]\n",
      " [4 5]]\n",
      "\n",
      "[[1 2]\n",
      " [3 4]]\n",
      "\n",
      "[[3 3]\n",
      " [5 5]\n",
      " [7 7]]\n"
     ]
    }
   ],
   "source": [
    "#Adição e multiplicação de matrizes\n",
    "mt1 = np.array([[1, 2], [3, 4]])\n",
    "mt2 = np.array([[1, 1], [1, 1]])\n",
    "soma_mt = mt1 + mt2\n",
    "print(soma_mt)\n",
    "\n",
    "print()\n",
    "\n",
    "prod_mt = mt1 * mt2\n",
    "print(prod_mt)\n",
    "\n",
    "print()\n",
    "\n",
    "mt1 = np.array([[1, 2], [3, 4], [5, 6]])\n",
    "mt2 = np.array([[2, 1]])\n",
    "print(mt1 + mt2)"
   ]
  },
  {
   "cell_type": "code",
   "execution_count": 87,
   "id": "819a6bb7-7592-4bc0-9616-35df96522dee",
   "metadata": {},
   "outputs": [
    {
     "name": "stdout",
     "output_type": "stream",
     "text": [
      "[[ 0  1  2  3  4]\n",
      " [ 5  6  7  8  9]\n",
      " [10 11 12 13 14]]\n",
      "\n",
      "[[ 0  5 10]\n",
      " [ 1  6 11]\n",
      " [ 2  7 12]\n",
      " [ 3  8 13]\n",
      " [ 4  9 14]]\n",
      "\n",
      "[[ 0  5 10]\n",
      " [ 1  6 11]\n",
      " [ 2  7 12]\n",
      " [ 3  8 13]\n",
      " [ 4  9 14]]\n"
     ]
    }
   ],
   "source": [
    "#Função 'arrange' dispõe um conjunto de 15 elementos (de 0 a 14) numa matriz de 3 linhas e 5 colunas\n",
    "f = np.arange(15).reshape((3, 5))\n",
    "print(f)\n",
    "\n",
    "print()\n",
    "\n",
    "#Calcula a matriz transposta\n",
    "s = f.T\n",
    "print(s)\n",
    "\n",
    "print()\n",
    "\n",
    "#Outra forma de calcular a matriz transposta\n",
    "s = f.transpose((1,0))\n",
    "print(s)"
   ]
  },
  {
   "cell_type": "code",
   "execution_count": 88,
   "id": "7db05953-f5cb-4392-a49b-a671e1d4de8f",
   "metadata": {},
   "outputs": [
    {
     "name": "stdout",
     "output_type": "stream",
     "text": [
      "[[-1.08518369  0.65941639 -0.25854751]\n",
      " [ 1.54719928  0.8979245  -0.12947312]\n",
      " [-0.39098036  0.67045523  0.81344832]]\n",
      "\n",
      "[[False  True False]\n",
      " [ True  True False]\n",
      " [False  True  True]]\n",
      "\n",
      "[[-1  1 -1]\n",
      " [ 1  1 -1]\n",
      " [-1  1  1]]\n"
     ]
    }
   ],
   "source": [
    "#Expressões lógicas\n",
    "#usando where\n",
    "\n",
    "#Criar uma matriz com valores aleatórios positivos e negativos\n",
    "mt = np.random.randn(3, 3)\n",
    "print(mt)\n",
    "\n",
    "print()\n",
    "\n",
    "#Criar uma matriz com valores booleanos baseado na matriz mt\n",
    "mt2 = (mt > 0)\n",
    "print(mt2)\n",
    "\n",
    "print()\n",
    "\n",
    "#Criar uma matriz com valores -1 e 1 baseado nos valores da matriz mt2\n",
    "mt3 = np.where(mt2 > 0, 1, -1)\n",
    "print(mt3)"
   ]
  }
 ],
 "metadata": {
  "kernelspec": {
   "display_name": "Python 3 (ipykernel)",
   "language": "python",
   "name": "python3"
  },
  "language_info": {
   "codemirror_mode": {
    "name": "ipython",
    "version": 3
   },
   "file_extension": ".py",
   "mimetype": "text/x-python",
   "name": "python",
   "nbconvert_exporter": "python",
   "pygments_lexer": "ipython3",
   "version": "3.9.7"
  }
 },
 "nbformat": 4,
 "nbformat_minor": 5
}
