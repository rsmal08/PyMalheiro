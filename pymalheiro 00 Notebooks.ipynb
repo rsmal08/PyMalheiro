{
 "cells": [
  {
   "cell_type": "markdown",
   "id": "1ef4fdc8-f4be-4bfe-a16b-4e59f191545d",
   "metadata": {
    "tags": []
   },
   "source": [
    "# Curso de Python - Ricardo Malheiro (ricardo.malheiro@ipleiria.pt)"
   ]
  },
  {
   "cell_type": "markdown",
   "id": "e2bcad2f-5bf7-4c83-b4ab-a71a7fc7f82b",
   "metadata": {},
   "source": [
    "## Considerações Gerais"
   ]
  },
  {
   "cell_type": "markdown",
   "id": "ec93b247-b723-49d3-b1b4-1d23a1a110bc",
   "metadata": {},
   "source": [
    "Este tutorial contém um conjunto de notebooks indicados para iniciar a aprendizagem de python. Esta aprendizagem está mais diretamente relacionada com conceitos associados ao processo de Data Mining e à Data Science."
   ]
  },
  {
   "cell_type": "markdown",
   "id": "1a7b6f5d-7e74-4bc0-948e-723eb5f6b64b",
   "metadata": {},
   "source": [
    "Um programa em python podem ser distribuido em ficheiros no formato standard de um fiicheiro python, i.e., que têm a extensão .py ou num formato notebook com a extensão .ipynb. <br><br>\n",
    "Um ficheiro .py contém apenas o código fonte (script) python do programa, enquanto um ficheiro .ipynb contém, além do código fonte, a sua execução e texto utilizando uma linguagem de marcação. <br><br>\n",
    "O formato notebook é muito utilizado por cientistas de dados já que permite juntar num mesmo ficheiro o código utilizado e um relatório de contextualização das experiências efetuadas. <br>"
   ]
  },
  {
   "cell_type": "markdown",
   "id": "f2a19ecc-ec5b-4bf3-87f6-9f7661077915",
   "metadata": {},
   "source": [
    "Um tutorial sobre a linguagem de marcação (markdown) pode ser consultado **<a href=\"https://www.datacamp.com/community/tutorials/markdown-in-jupyter-notebook?utm_source=adwords_ppc&utm_medium=cpc&utm_campaignid=16066057384&utm_adgroupid=&utm_device=c&utm_keyword=&utm_matchtype=&utm_network=x&utm_adpostion=&utm_creative=&utm_targetid=&utm_loc_interest_ms=1006826&utm_loc_physical_ms=1011731&gclid=Cj0KCQiA09eQBhCxARIsAAYRiykx6RgKZ5k-2V0z_L7NAMNAs0tnEP8t447nY8YqTzryWijI39TYJ-UaAuAhEALw_wcB\" >aqui</a>** e mais documentação sobre o Jupyter (IDE utilizado para implementar o código) pode ser consultada **<a href=\"https://docs.jupyter.org/en/latest/\" >aqui</a>** e **<a href=\"http://justinbois.github.io/bootcamp/2020_fsri/lessons/l01_welcome.html\" >aqui</a>**."
   ]
  },
  {
   "cell_type": "markdown",
   "id": "5cdd9330-c2ba-41f4-b1ac-5b018b8e0de9",
   "metadata": {},
   "source": [
    "## Estrutura do Curso"
   ]
  },
  {
   "cell_type": "markdown",
   "id": "067be83e-034c-4b49-8b53-13b8dc11b158",
   "metadata": {},
   "source": [
    "1. Introdução ao Python para Data Science\n",
    "    - Conceitos Introdutórios de Python (01)\n",
    "    - Estruturas de Dados (02)\n",
    "    - Bibliotaca Pandas (03)\n",
    "    - Biblioteva Numpy (04)\n",
    "    - Funções ou Métodos (05)\n",
    "    - Visualização de Dados (06)\n",
    "2. Preparação de Dados\n",
    "    (Em preparação ...)\n",
    "3. Criação de Modelos\n",
    "    (Em preparação ...)\n",
    "4. Avaliação de Modelos\n",
    "    (Em preparação ...)"
   ]
  },
  {
   "cell_type": "markdown",
   "id": "b4002ee7-31b3-4418-bc7c-2354f2f446f7",
   "metadata": {},
   "source": [
    "## Referências e Repositório "
   ]
  },
  {
   "cell_type": "markdown",
   "id": "3f4dde3c-1953-4ca9-8302-bb35e3e3dd6e",
   "metadata": {},
   "source": [
    "- Site referência W3Schools: https://www.w3schools.com/python/python_reference.asp\n",
    "- Tutorial de Python para Data Science: https://www.analyticsvidhya.com/blog/2016/01/complete-tutorial-learn-data-science-python-scratch-2/\n",
    "-  Básico do Pyhon: https://courses.analyticsvidhya.com/courses/introduction-to-data-science?utm_source=blog&utm_medium=learnDSwithPythonScratcharticle \n",
    "\n",
    "Outras Referências\n",
    "- António Trigo ([DOI](https://zenodo.org/badge/DOI/10.5281/zenodo.1226769.svg)), Fernando Amaral (Formação DC com Python) e Filipe Mafra (Data Science A-Z)."
   ]
  }
 ],
 "metadata": {
  "kernelspec": {
   "display_name": "Python 3 (ipykernel)",
   "language": "python",
   "name": "python3"
  },
  "language_info": {
   "codemirror_mode": {
    "name": "ipython",
    "version": 3
   },
   "file_extension": ".py",
   "mimetype": "text/x-python",
   "name": "python",
   "nbconvert_exporter": "python",
   "pygments_lexer": "ipython3",
   "version": "3.9.7"
  }
 },
 "nbformat": 4,
 "nbformat_minor": 5
}
