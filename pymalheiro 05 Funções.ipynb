{
 "cells": [
  {
   "cell_type": "markdown",
   "id": "97ece5fc-e1b1-4b79-804c-6316cf20dc4c",
   "metadata": {},
   "source": [
    "# Curso de Python - Ricardo Malheiro (ricardo.malheiro@ipleiria.pt)"
   ]
  },
  {
   "cell_type": "markdown",
   "id": "45df8c8d-56fe-436a-9c03-e572915bd524",
   "metadata": {},
   "source": [
    "## Funções Padrão"
   ]
  },
  {
   "cell_type": "markdown",
   "id": "c91ced7b-bacc-46f4-aadf-dca1c7dc163f",
   "metadata": {},
   "source": [
    "Uma função ou método no python é um bloco de código que executa um conjunto de instruções. "
   ]
  },
  {
   "cell_type": "markdown",
   "id": "76584c1b-e10a-479c-b60c-47e7bbc6e102",
   "metadata": {},
   "source": [
    "## Funções"
   ]
  },
  {
   "cell_type": "code",
   "execution_count": 3,
   "id": "ec7aa764-7b13-4c9f-965c-60390a4fdb96",
   "metadata": {},
   "outputs": [
    {
     "name": "stdout",
     "output_type": "stream",
     "text": [
      "Esta é uma função\n"
     ]
    }
   ],
   "source": [
    "#Função imprime() sem parâmetros de entrada\n",
    "def imprime():\n",
    "    print(\"Esta é uma função\")\n",
    "\n",
    "#Chamada da função imprime()\n",
    "imprime()"
   ]
  },
  {
   "cell_type": "code",
   "execution_count": 5,
   "id": "f7d25046-9648-4bea-8b48-0e836072b2ee",
   "metadata": {},
   "outputs": [
    {
     "name": "stdout",
     "output_type": "stream",
     "text": [
      "Impressão deste texto\n"
     ]
    }
   ],
   "source": [
    "#Função imprime(n) com um parâmetro de entrada\n",
    "def imprime(n):\n",
    "    print(n)\n",
    "\n",
    "#Chamada da função imprime(n)\n",
    "imprime(\"Impressão deste texto\")"
   ]
  },
  {
   "cell_type": "code",
   "execution_count": 6,
   "id": "3cab5b06-92b3-4124-8241-6f21e515a776",
   "metadata": {},
   "outputs": [
    {
     "name": "stdout",
     "output_type": "stream",
     "text": [
      "9\n"
     ]
    }
   ],
   "source": [
    "#Função com um parâmetro de entrada e que retorna um valor\n",
    "def potencia(n):\n",
    "    return n * n\n",
    "\n",
    "x = potencia(3)\n",
    "print(x)"
   ]
  },
  {
   "cell_type": "code",
   "execution_count": 23,
   "id": "1a6a1bb1-897a-4fd8-84fc-2701ee38fbb9",
   "metadata": {},
   "outputs": [
    {
     "name": "stdout",
     "output_type": "stream",
     "text": [
      "1\n",
      "2\n",
      "3\n",
      "4\n",
      "5\n",
      "6\n",
      "7\n",
      "8\n",
      "9\n",
      "10\n",
      "\n",
      "1\n",
      "2\n",
      "3\n",
      "4\n"
     ]
    }
   ],
   "source": [
    "#Função definida com parâmetros por defeito\n",
    "def intervalo(inic=1,fim=10):\n",
    "    for n in range(inic, fim+1):\n",
    "        print(n)\n",
    "\n",
    "#A chamada da função sem parâmetros utiliza os parâmteros definidos por defeito para a função\n",
    "x = intervalo()\n",
    "\n",
    "print()\n",
    "\n",
    "#A chamada da função com parâtros utiliza os parâmteros utilizados na chamada\n",
    "y = intervalo(1,4)"
   ]
  },
  {
   "cell_type": "code",
   "execution_count": 35,
   "id": "1ec64d5c-2628-4586-ba87-3e577308bd28",
   "metadata": {},
   "outputs": [
    {
     "name": "stdout",
     "output_type": "stream",
     "text": [
      "Máximo:  82  Mínimo:  -26  Último:  5\n"
     ]
    }
   ],
   "source": [
    "#Função que retorna vários valores\n",
    "list1 = [1,-4,82,-26,2,10,5]\n",
    "\n",
    "def estat(lista):\n",
    "    maximo = max(lista)\n",
    "    minimo = min(lista)\n",
    "    ultimo = lista[-1]\n",
    "    return maximo,minimo,ultimo\n",
    "\n",
    "x, y, z = estat(list1)\n",
    "print('Máximo: ',x,' Mínimo: ',y,' Último: ',z)"
   ]
  },
  {
   "cell_type": "markdown",
   "id": "cf87655f-a1e5-46c4-8851-b125cfae0ee4",
   "metadata": {},
   "source": [
    "### Exercícios\n",
    "\n",
    "1. Faça um programa máquina de calcular que leia 2 números a partir da consola e que leia ainda a operação matemática a executar. Em seguida deve devolver na consola o resultado da operação. Todas as opeações devem estar calculadas utilizando métodos."
   ]
  }
 ],
 "metadata": {
  "kernelspec": {
   "display_name": "Python 3 (ipykernel)",
   "language": "python",
   "name": "python3"
  },
  "language_info": {
   "codemirror_mode": {
    "name": "ipython",
    "version": 3
   },
   "file_extension": ".py",
   "mimetype": "text/x-python",
   "name": "python",
   "nbconvert_exporter": "python",
   "pygments_lexer": "ipython3",
   "version": "3.9.7"
  }
 },
 "nbformat": 4,
 "nbformat_minor": 5
}
