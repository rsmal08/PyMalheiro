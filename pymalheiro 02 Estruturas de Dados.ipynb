{
 "cells": [
  {
   "cell_type": "markdown",
   "id": "d7c85994-32ed-4993-9569-3707d89c3146",
   "metadata": {},
   "source": [
    "# Curso de Python - Ricardo Malheiro (ricardo.malheiro@ipleiria.pt)"
   ]
  },
  {
   "cell_type": "markdown",
   "id": "01fdd4c2-234b-4175-b4c5-4874c0d4ffb2",
   "metadata": {},
   "source": [
    "## Estruturas de Dados"
   ]
  },
  {
   "cell_type": "markdown",
   "id": "76c43e1d-6369-468c-9d24-ab4bfa8bb7de",
   "metadata": {},
   "source": [
    "Seguem-se algumas das estruturas de dados mais utilizadas em Python."
   ]
  },
  {
   "cell_type": "markdown",
   "id": "2aa4ceb7-aa74-41ee-b61c-a457d51e4eab",
   "metadata": {
    "tags": []
   },
   "source": [
    "### 1. List (Lista)"
   ]
  },
  {
   "cell_type": "markdown",
   "id": "bc11e495-e4cc-4c0b-acee-d7def02cacb1",
   "metadata": {},
   "source": [
    "Esta estrutura armazena uma lista de elementos indexados por inteiros em que os elementos são guardados pela ordem de inserção. A estrutura é mutável."
   ]
  },
  {
   "cell_type": "code",
   "execution_count": 1,
   "id": "e1473573-b818-43ee-8dfc-d7d46614bc75",
   "metadata": {},
   "outputs": [
    {
     "name": "stdout",
     "output_type": "stream",
     "text": [
      "[1, 2, 3, 4]\n"
     ]
    }
   ],
   "source": [
    "#Lista de números inteiros\n",
    "x = [1,2,3,4,]\n",
    "#Imprimir o resultado no ecrã\n",
    "print(x)"
   ]
  },
  {
   "cell_type": "code",
   "execution_count": 2,
   "id": "8cdbc160-c152-422c-a1d8-ab707dea55dd",
   "metadata": {},
   "outputs": [
    {
     "name": "stdout",
     "output_type": "stream",
     "text": [
      "['1', 2, False, 3, 'mesa', 4]\n"
     ]
    }
   ],
   "source": [
    "#Lista contendo dados de vários tipos\n",
    "x = [\"1\",2, False, 3, 'mesa', 4]\n",
    "print(x)"
   ]
  },
  {
   "cell_type": "code",
   "execution_count": 3,
   "id": "c152d09f-38c1-46c3-b790-89fcbcc82e8b",
   "metadata": {},
   "outputs": [
    {
     "name": "stdout",
     "output_type": "stream",
     "text": [
      "['1', 2, False, 3, 'mesa', 4, [1, 2, 3, 4]]\n"
     ]
    }
   ],
   "source": [
    "#Lista contendo dados de vários tipos incluindo outras listas\n",
    "x = [\"1\",2, False, 3, 'mesa', 4, [1, 2, 3, 4]]\n",
    "print(x)"
   ]
  },
  {
   "cell_type": "code",
   "execution_count": 28,
   "id": "5b4213ad-e17c-4da9-a2df-68f2ed461f58",
   "metadata": {},
   "outputs": [
    {
     "name": "stdout",
     "output_type": "stream",
     "text": [
      "A lista é: ['1', 2, False, 3, 'mesa', 4, [1, 2, 3, 4]]\n",
      "O número de elementos da lista é 7\n",
      "O setimo elemento da lista é [1, 2, 3, 4]\n",
      "O penúltimo elemento da lista é 4\n",
      "A sub-lista que contém do 3º ao 4º elementos da lista é [False, 3]\n",
      "\n",
      "Após a alteração a lista passou a ser: ['1', 100, False, 3, 'mesa', 4, [1, 2, 3, 4]]\n",
      "\n",
      "O 1 º elemento da lista é 1\n",
      "O 2 º elemento da lista é 100\n",
      "O 3 º elemento da lista é False\n",
      "O 4 º elemento da lista é 3\n",
      "O 5 º elemento da lista é mesa\n",
      "O 6 º elemento da lista é 4\n",
      "O 7 º elemento da lista é [1, 2, 3, 4]\n"
     ]
    }
   ],
   "source": [
    "#Aceder aos elementos das listas\n",
    "x = [\"1\",2, False, 3, 'mesa', 4, list(range(1,5))]\n",
    "\n",
    "print(\"A lista é:\",x)\n",
    "print(\"O número de elementos da lista é\",len(x))\n",
    "print(\"O setimo elemento da lista é\",x[6])\n",
    "print(\"O penúltimo elemento da lista é\",x[-2])\n",
    "print(\"A sub-lista que contém do 3º ao 4º elementos da lista é\",x[2:4])\n",
    "\n",
    "#Alterar o segundo elemento da lista para 100\n",
    "x[1] = 100\n",
    "print(\"Após a alteração a lista passou a ser:\",x)\n",
    "\n",
    "#Percorrer a lista e escrever os elementos em linhas diferentes 1 a 1\n",
    "print()\n",
    "for i in range(0, len(x)):\n",
    "    print(\"O\",i+1,\"º elemento da lista é\",x[i])"
   ]
  },
  {
   "cell_type": "markdown",
   "id": "713cd5ca-4bed-4b6a-a01b-9d5278cc0926",
   "metadata": {},
   "source": [
    "#### Métodos associados às listas\n",
    "\n",
    "* .append(item) - adicionar um elemento na cauda da lista\n",
    "* .extend([item1, item2, ...]) - adicionar múltiplos elementos à cauda da lista\n",
    "* .remove(item) - remover a 1ª instância do elemento item na lista\n",
    "* .pop() - remover o ultimo elemento da lista\n",
    "* .pop(index) - remover e devolver um elemento da lista numa determinada posicao"
   ]
  },
  {
   "cell_type": "markdown",
   "id": "c413ab48-d220-4fde-bcf3-9761fd8c426e",
   "metadata": {},
   "source": [
    "#### **Exercício**\n",
    "\n",
    "Crie uma lista com valores do tipo texto e float e experimente todos os métodos anteriores imprimindo depois no ecrã o resultado."
   ]
  },
  {
   "cell_type": "code",
   "execution_count": 5,
   "id": "33c1692a-e557-4af1-b657-65f03a2ce51a",
   "metadata": {},
   "outputs": [
    {
     "name": "stdout",
     "output_type": "stream",
     "text": [
      "[1, 2, 3, 4, 5]\n",
      "[1, 2, 3, 4, 5, 3, 6, 7]\n",
      "[1, 2, 4, 5, 3, 6, 7]\n",
      "[1, 2, 4, 5, 3, 6]\n",
      "[1, 4, 5, 3, 6]\n"
     ]
    }
   ],
   "source": [
    "#Coloque a resolução do exercício aqui:\n",
    "lista = [1,2,3,4]\n",
    "lista.append(5)\n",
    "print(lista)\n",
    "\n",
    "lista.extend([3,6,7])\n",
    "print(lista)\n",
    "\n",
    "lista.remove(3)\n",
    "print(lista)\n",
    "\n",
    "lista.pop()\n",
    "print(lista)\n",
    "\n",
    "lista.pop(1)\n",
    "print(lista)"
   ]
  },
  {
   "cell_type": "markdown",
   "id": "dd943391-5285-47e5-8ebb-6b2354f92358",
   "metadata": {
    "jp-MarkdownHeadingCollapsed": true,
    "tags": []
   },
   "source": [
    "### 2. Dict (Dicionários)"
   ]
  },
  {
   "cell_type": "markdown",
   "id": "a9f15eb4-c031-4879-a114-38df56ef8a3e",
   "metadata": {},
   "source": [
    "Dicionário é uma coleção de elementos do tipo chave-valor em que os elementos não são guardados pela ordem de inserção. As chaves são imutáveis, enquanto os valores são mutáveis."
   ]
  },
  {
   "cell_type": "code",
   "execution_count": 6,
   "id": "21ce2ad1-25ce-4a1d-9d35-fcfa6cf5e321",
   "metadata": {},
   "outputs": [
    {
     "name": "stdout",
     "output_type": "stream",
     "text": [
      "{'Carlos': 14.2, 'Marta': 18.0, 'Mariana': 9.7, 'Tomás': 11.9}\n",
      "A nota da Marta é: 18.0\n"
     ]
    }
   ],
   "source": [
    "#Dicionário é uma estrutura chave/valor\n",
    "notas = {'Carlos': 14.2, 'Marta': 18.0, 'Mariana': 9.7, 'Tomás': 11.9}\n",
    "print(notas)\n",
    "print(\"A nota da Marta é:\",notas['Marta'])"
   ]
  },
  {
   "cell_type": "code",
   "execution_count": 7,
   "id": "aedc2cf2-aeea-4b0c-b239-614f8bc0b270",
   "metadata": {},
   "outputs": [
    {
     "data": {
      "text/plain": [
       "dict_keys(['Carlos', 'Marta', 'Mariana', 'Tomás'])"
      ]
     },
     "execution_count": 7,
     "metadata": {},
     "output_type": "execute_result"
    }
   ],
   "source": [
    "#Lista todas as chaves do dicionário\n",
    "notas.keys()"
   ]
  },
  {
   "cell_type": "code",
   "execution_count": 8,
   "id": "11629ab6-6087-49be-babe-a9049528f319",
   "metadata": {},
   "outputs": [
    {
     "data": {
      "text/plain": [
       "dict_values([14.2, 18.0, 9.7, 11.9])"
      ]
     },
     "execution_count": 8,
     "metadata": {},
     "output_type": "execute_result"
    }
   ],
   "source": [
    "#Lista todos os valores no dicionário\n",
    "notas.values()"
   ]
  },
  {
   "cell_type": "code",
   "execution_count": 9,
   "id": "ed6a0d27-2ee6-4097-b398-30b803749ae1",
   "metadata": {},
   "outputs": [
    {
     "name": "stdout",
     "output_type": "stream",
     "text": [
      "Sim\n"
     ]
    }
   ],
   "source": [
    "#Verifica se o elemento Marta está no dicionário\n",
    "if 'Marta' in notas:\n",
    "    print(\"Sim\")\n",
    "else:\n",
    "    print(\"Não\")\n"
   ]
  },
  {
   "cell_type": "code",
   "execution_count": 10,
   "id": "7e8428fe-ec67-49e7-bd5b-3c64b80c620e",
   "metadata": {},
   "outputs": [
    {
     "name": "stdout",
     "output_type": "stream",
     "text": [
      "O dicionário é: {'Carlos': 14.2, 'Marta': 18.0, 'Mariana': 9.7, 'Tomás': 11.9}\n",
      "Após adicionar uma entrada: {'Carlos': 14.2, 'Marta': 18.0, 'Mariana': 9.7, 'Tomás': 11.9, 'Paula': 17}\n",
      "Após remover uma entrada: {'Carlos': 14.2, 'Marta': 18.0, 'Mariana': 9.7, 'Paula': 17}\n"
     ]
    }
   ],
   "source": [
    "notas = {'Carlos': 14.2, 'Marta': 18.0, 'Mariana': 9.7, 'Tomás': 11.9}\n",
    "print(\"O dicionário é:\",notas)\n",
    "\n",
    "#Elimina e insere elementos da lista\n",
    "notas['Paula'] = 17\n",
    "print(\"Após adicionar uma entrada:\",notas)\n",
    "\n",
    "del notas['Tomás']\n",
    "print(\"Após remover uma entrada:\",notas)"
   ]
  },
  {
   "cell_type": "code",
   "execution_count": 11,
   "id": "ef4d6390-2836-4265-9a69-e28987340a75",
   "metadata": {},
   "outputs": [
    {
     "data": {
      "text/plain": [
       "'Não existe!!!!!'"
      ]
     },
     "execution_count": 11,
     "metadata": {},
     "output_type": "execute_result"
    }
   ],
   "source": [
    "#Procura um valor no dicionário e se não encontrar retorna o segundo parâmetro\n",
    "notas.get('Julieta',\"Não existe!!!!!\")"
   ]
  },
  {
   "cell_type": "code",
   "execution_count": 12,
   "id": "9fcdaac9-cd62-4539-8438-d9dda56b88e3",
   "metadata": {},
   "outputs": [
    {
     "name": "stdout",
     "output_type": "stream",
     "text": [
      "<class 'dict'>\n"
     ]
    }
   ],
   "source": [
    "#Tipo de dados\n",
    "print(type(notas))"
   ]
  },
  {
   "cell_type": "markdown",
   "id": "ecf9d676-a8e6-4578-b40b-bcbb9e809d87",
   "metadata": {},
   "source": [
    "#### Métodos associados a dicionários\n",
    "\n",
    "* .update([(key1, val1), (key2, val2), ...]) - adicionar multiplos valores ao dicionário\n",
    "* .update(dict2) - adicionar todos os elementos do dicionário dict2 ao dicionário\n",
    "* .pop(key) - remover e devolver o valor relativo à chave key\n",
    "* .pop(key, default_val) - o mesmo do anterior, mas com a definição de um valor por omissão\n",
    "* .get(key) - devolver um valor do dicionário com uma determinada chave\n",
    "* .get(key, default_val) - o mesmo do anterior, mas com a definição de um valor por omissão\n",
    "* .keys() - devolver uma lista com as chaves do dicionário\n",
    "* .values() - devolver uma lista com os valores do dicionário\n",
    "* .items() - devolver uma lista de tuplos com as chaves evalores do dicionário"
   ]
  },
  {
   "cell_type": "markdown",
   "id": "5fc52e33-7495-4ebd-9b95-447f185f71f3",
   "metadata": {
    "tags": []
   },
   "source": [
    "#### **Exercício**\n",
    "\n",
    "Crie um dicionário e experimente todos os métodos anteriores imprimindo depois no ecrã o resultado."
   ]
  },
  {
   "cell_type": "code",
   "execution_count": 13,
   "id": "7e8d513f-bf46-4b3c-ad05-f0fb2a1f296b",
   "metadata": {
    "tags": []
   },
   "outputs": [],
   "source": [
    "#Coloque a resolução do exercício aqui:"
   ]
  },
  {
   "cell_type": "markdown",
   "id": "4cd6e33a-366e-44ea-9ee7-51e0a61ac00c",
   "metadata": {
    "jp-MarkdownHeadingCollapsed": true,
    "tags": []
   },
   "source": [
    "### 3. Sets (Conjuntos)"
   ]
  },
  {
   "cell_type": "markdown",
   "id": "b67a4f44-2de1-4fea-8ee9-d6df5cd2b29e",
   "metadata": {},
   "source": [
    "Um conjunto é uma coleção de elementos não indexados. Os elementos não são guardados pela ordem de inserção. É imutável."
   ]
  },
  {
   "cell_type": "code",
   "execution_count": 14,
   "id": "84f5047e-cf5a-45ec-866b-380a446143a6",
   "metadata": {},
   "outputs": [
    {
     "name": "stdout",
     "output_type": "stream",
     "text": [
      "{'KMeans', 'Apriori', 'C4.5'}\n"
     ]
    }
   ],
   "source": [
    "algoritmosDM = {'Apriori', 'C4.5', \"KMeans\"} \n",
    "print(algoritmosDM)"
   ]
  },
  {
   "cell_type": "code",
   "execution_count": 15,
   "id": "2620ba7c-c896-4543-8d05-2f7723fa0ccf",
   "metadata": {},
   "outputs": [
    {
     "name": "stdout",
     "output_type": "stream",
     "text": [
      "True\n"
     ]
    }
   ],
   "source": [
    "#Verifica existência de um elemento no Set\n",
    "print('Apriori' in algoritmosDM)"
   ]
  },
  {
   "cell_type": "code",
   "execution_count": 16,
   "id": "05f50ce4-7e72-43be-99bd-86e6d489d6ec",
   "metadata": {},
   "outputs": [
    {
     "data": {
      "text/plain": [
       "{'Apriori', 'C4.5', 'KMeans', 'Prism'}"
      ]
     },
     "execution_count": 16,
     "metadata": {},
     "output_type": "execute_result"
    }
   ],
   "source": [
    "#Adiciona elemento ao Set\n",
    "algoritmosDM.add('Prism')\n",
    "algoritmosDM"
   ]
  },
  {
   "cell_type": "code",
   "execution_count": 17,
   "id": "de101c12-486c-4cb6-8575-9995b9fd42e8",
   "metadata": {
    "tags": []
   },
   "outputs": [
    {
     "name": "stdout",
     "output_type": "stream",
     "text": [
      "4\n"
     ]
    }
   ],
   "source": [
    "#Retorna o número de elementos do Set\n",
    "print(len(algoritmosDM))"
   ]
  },
  {
   "cell_type": "code",
   "execution_count": 18,
   "id": "cc8ad145-2273-443f-b99d-2a8ed6a225e0",
   "metadata": {},
   "outputs": [
    {
     "name": "stdout",
     "output_type": "stream",
     "text": [
      "<class 'set'>\n"
     ]
    }
   ],
   "source": [
    "#Tipo de dados\n",
    "print(type(algoritmosDM))"
   ]
  },
  {
   "cell_type": "markdown",
   "id": "a6b56bba-3175-4a47-84f2-bf0705f46638",
   "metadata": {},
   "source": [
    "#### Métodos associados a conjuntos\n",
    "\n",
    "* .add(item) - adicionar um elemento ao conjunto\n",
    "* .update({item1, item2, ...}) - adcionar multiplos elementos ao conjunto\n",
    "* .update(set2, set3, ...) - adicionar elementos de outros conjuntos\n",
    "* .remove(item) - remover um elemento do conjunto\n",
    "* .pop() - remover e retornar um elemento do conjunto (como os conjuntos não estão ordenados não se consegue determinar qual o elemento que vai sair)\n",
    "* .difference(set2) - retirar elementos do conjunto que não estão no outro\n",
    "* .intersection(set2) - devolver elementos dos dois conjuntos\n",
    "* .union(set2) - devolver elementos que estão num ou noutro conjunto\n",
    "* .symmetric_difference(set2) - devolver elementos que só estão num conjunto\n",
    "* .issuperset(set2) - se set contem os elementos do conjunto set2\n",
    "* .issubset(set2) - se set é um subconjunto do set2"
   ]
  },
  {
   "cell_type": "markdown",
   "id": "88626af0-9667-49fc-ad0e-77d64eb88795",
   "metadata": {
    "tags": []
   },
   "source": [
    "#### **Exercício**\n",
    "\n",
    "De acordo com o necessário, crie um ou mais conjuntos e experimente todos os métodos anteriores imprimindo depois no ecrã os resultados."
   ]
  },
  {
   "cell_type": "code",
   "execution_count": 19,
   "id": "ca1aab01-0761-4969-a6be-5b9648d05263",
   "metadata": {},
   "outputs": [],
   "source": [
    "#Coloque a resolução do exercício aqui:"
   ]
  },
  {
   "cell_type": "markdown",
   "id": "68561ed2-48fc-4d69-a848-85a2958d5ce5",
   "metadata": {
    "jp-MarkdownHeadingCollapsed": true,
    "tags": []
   },
   "source": [
    "### 4. Tuple (Tuplo)"
   ]
  },
  {
   "cell_type": "markdown",
   "id": "9e383912-c68b-4fbb-a112-6d58329e98bc",
   "metadata": {},
   "source": [
    "É uma lista de elementos indexados por inteiros em que os elementos são guardados pela ordem de inserção. É imutável."
   ]
  },
  {
   "cell_type": "code",
   "execution_count": 20,
   "id": "abb95290-ac25-47d3-9930-26e59e29b56e",
   "metadata": {},
   "outputs": [
    {
     "data": {
      "text/plain": [
       "(1, 2, 3, 4, 5)"
      ]
     },
     "execution_count": 20,
     "metadata": {},
     "output_type": "execute_result"
    }
   ],
   "source": [
    "#tuplas são listas que não podem ser alteradas\n",
    "#listas usam [], tuplas usam ()\n",
    "tupla = (1,2,3,4,5)\n",
    "tupla"
   ]
  },
  {
   "cell_type": "code",
   "execution_count": 21,
   "id": "570da9ba-b8f7-42ff-a167-7bb8daf86b77",
   "metadata": {},
   "outputs": [
    {
     "data": {
      "text/plain": [
       "5"
      ]
     },
     "execution_count": 21,
     "metadata": {},
     "output_type": "execute_result"
    }
   ],
   "source": [
    "#Aceder ao 5º elemento da tupla\n",
    "tupla[4]"
   ]
  },
  {
   "cell_type": "code",
   "execution_count": 22,
   "id": "0954b596-4430-49ef-a35b-bfee07d66e2a",
   "metadata": {},
   "outputs": [
    {
     "name": "stdout",
     "output_type": "stream",
     "text": [
      "<class 'tuple'>\n"
     ]
    }
   ],
   "source": [
    "#Tipo de dados\n",
    "print(type(tupla))"
   ]
  },
  {
   "cell_type": "markdown",
   "id": "2847a391-9988-4e24-845d-217eddfc52ae",
   "metadata": {},
   "source": [
    "#### **Exercício**\n",
    "\n",
    "Em que situações devem ser utilizadas as estruturas anteriores: lista, dicionário, conjunto e tuplo? <br>\n"
   ]
  },
  {
   "cell_type": "markdown",
   "id": "59b77763-bcc7-42db-b5b7-5910172d57cd",
   "metadata": {
    "tags": []
   },
   "source": [
    "### 5. Str (Strings)"
   ]
  },
  {
   "cell_type": "markdown",
   "id": "d57405a4-5040-4202-b7b3-e85bcc2cd661",
   "metadata": {},
   "source": [
    "É uma lista de caracteres indexados por inteiros em que os elementos são guardados pela ordem de inserção. É imutável.<br>\n",
    "As strings podem ser delimitadas pelos caracteres ('), (\") ou ('''). Este último delimitador permite estender uma string por várias linhas. "
   ]
  },
  {
   "cell_type": "code",
   "execution_count": 52,
   "id": "cc9811cf-1af3-47c0-bb5e-c78c01123d93",
   "metadata": {},
   "outputs": [
    {
     "name": "stdout",
     "output_type": "stream",
     "text": [
      "Colocar a primeira letra da frase em maiúsculas e o resto em minúsculas:  Esta frase esta desformatada\n",
      "Colocar todas as letras em maiúsculas:  ESTA FRASE ESTA DESFORMATADA\n",
      "Colocar todas as letras em minúsculas esta frase esta desformatada\n",
      "Contar o número de caracteres: 28\n",
      "Contar o número de vezes que aparece a letra e:  2\n",
      "Contar o número de vezes que aparece a letra e a partir da posição 10:  1\n",
      "Contar o número de vezes que aparece a palavra esta:  1\n",
      "Identificar se a frase começa pelas letras eSTa:  True\n",
      "Substituir a palavra esta pela palavra está:  eSTa fRASE está dESFormatada\n"
     ]
    }
   ],
   "source": [
    "str = 'eSTa fRASE esta dESFormatada'\n",
    "print('Colocar a primeira letra da frase em maiúsculas e o resto em minúsculas: ' , str.capitalize())\n",
    "print('Colocar todas as letras em maiúsculas: ' , str.upper())\n",
    "print('Colocar todas as letras em minúsculas' , str.lower())\n",
    "print('Contar o número de caracteres:' , len(str))\n",
    "print('Contar o número de vezes que aparece a letra e: ' , str.count('e'))\n",
    "print('Contar o número de vezes que aparece a letra e a partir da posição 10: ' , str.count('e',10))\n",
    "print('Contar o número de vezes que aparece a palavra esta: ' , str.count('esta'))\n",
    "print('Identificar se a frase começa pelas letras eSTa: ' , str.startswith('eSTa'))\n",
    "print('Substituir a palavra esta pela palavra está: ' , str.replace('esta', 'está'))"
   ]
  },
  {
   "cell_type": "code",
   "execution_count": 37,
   "id": "bb368e51-46e6-49c6-9928-54bcc8a0de34",
   "metadata": {},
   "outputs": [
    {
     "name": "stdout",
     "output_type": "stream",
     "text": [
      "\n",
      " é um caracter de mudança de linha por defeito.\n",
      "Na string anterior foi feita NEWLINE antesda string ser imprimida, enquanto na seguinte, a expressão é imprimida literalmente...\n",
      "\\n é um caracter de mudança de linha por defeito.\n"
     ]
    }
   ],
   "source": [
    "'''O símbolo (\\) é utilizado com m símbolo de ESCAPE.\n",
    "O \\n é o caracter que permite fazer mudança de linha'''\n",
    "str = '\\n é um caracter de mudança de linha por defeito.'\n",
    "print(str)\n",
    "\n",
    "print(\"Na string anterior foi feita NEWLINE antesda string ser imprimida, enquanto na seguinte, a expressão é imprimida literalmente...\")\n",
    "\n",
    "#Se quiser escrever literalmente \\n devo inicializar a string como RAR (caracter r). Isto permite que ela seja interpretada literalmente.\n",
    "str = r'\\n é um caracter de mudança de linha por defeito.'\n",
    "print(str)"
   ]
  },
  {
   "cell_type": "code",
   "execution_count": 44,
   "id": "97a9e9d8-c686-454b-b297-72bcca940d01",
   "metadata": {},
   "outputs": [
    {
     "name": "stdout",
     "output_type": "stream",
     "text": [
      "Como foi indicado anteriormente o tipo string é imutável. Isso significa que não posso alkterar uma string previamente criada.\n",
      "A seguinte alteração dá erro...\n"
     ]
    },
    {
     "ename": "TypeError",
     "evalue": "'str' object does not support item assignment",
     "output_type": "error",
     "traceback": [
      "\u001b[1;31m---------------------------------------------------------------------------\u001b[0m",
      "\u001b[1;31mTypeError\u001b[0m                                 Traceback (most recent call last)",
      "\u001b[1;32m~\\AppData\\Local\\Temp/ipykernel_22620/3606937142.py\u001b[0m in \u001b[0;36m<module>\u001b[1;34m\u001b[0m\n\u001b[0;32m      3\u001b[0m \u001b[1;33m\u001b[0m\u001b[0m\n\u001b[0;32m      4\u001b[0m \u001b[0mdespedida\u001b[0m \u001b[1;33m=\u001b[0m \u001b[1;34m\"Comprimentos\"\u001b[0m\u001b[1;33m\u001b[0m\u001b[1;33m\u001b[0m\u001b[0m\n\u001b[1;32m----> 5\u001b[1;33m \u001b[0mdespedida\u001b[0m\u001b[1;33m[\u001b[0m\u001b[1;36m1\u001b[0m\u001b[1;33m:\u001b[0m\u001b[1;33m]\u001b[0m \u001b[1;33m=\u001b[0m \u001b[1;34m'u'\u001b[0m\u001b[1;33m\u001b[0m\u001b[1;33m\u001b[0m\u001b[0m\n\u001b[0m",
      "\u001b[1;31mTypeError\u001b[0m: 'str' object does not support item assignment"
     ]
    }
   ],
   "source": [
    "print(\"Como foi indicado anteriormente o tipo string é imutável. Isso significa que não posso alkterar uma string previamente criada.\")\n",
    "print(\"A seguinte alteração dá erro...\")\n",
    "\n",
    "despedida = \"Comprimentos\"\n",
    "despedida[1:] = 'u'"
   ]
  },
  {
   "cell_type": "markdown",
   "id": "5a4bbd9a-5511-484e-8f39-8779e8758c68",
   "metadata": {},
   "source": [
    "#### **Exercício**\n",
    "\n",
    "1. Outras métodos muito utilizados são por exemplo o isdigit(), isspace(), find(), split() e join(). Experimente estes métodos e veja o resultado da sua aplicação.\n",
    "2. Leia uma string a partir da consola e em seguida imprima no ecrã o número de caracteres dessa string.\n"
   ]
  }
 ],
 "metadata": {
  "kernelspec": {
   "display_name": "Python 3 (ipykernel)",
   "language": "python",
   "name": "python3"
  },
  "language_info": {
   "codemirror_mode": {
    "name": "ipython",
    "version": 3
   },
   "file_extension": ".py",
   "mimetype": "text/x-python",
   "name": "python",
   "nbconvert_exporter": "python",
   "pygments_lexer": "ipython3",
   "version": "3.9.7"
  }
 },
 "nbformat": 4,
 "nbformat_minor": 5
}
